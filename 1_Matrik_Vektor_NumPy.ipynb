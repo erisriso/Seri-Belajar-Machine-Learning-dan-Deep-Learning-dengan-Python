{
  "nbformat": 4,
  "nbformat_minor": 0,
  "metadata": {
    "colab": {
      "name": "1. Matrik_Vektor_NumPy.ipynb",
      "provenance": [],
      "collapsed_sections": [],
      "authorship_tag": "ABX9TyO9A1bcx5bn6iv9Lkw78Epp"
    },
    "kernelspec": {
      "name": "python3",
      "display_name": "Python 3"
    }
  },
  "cells": [
    {
      "cell_type": "code",
      "metadata": {
        "id": "_e4JaRc_XXTv",
        "colab_type": "code",
        "colab": {
          "base_uri": "https://localhost:8080/",
          "height": 187
        },
        "outputId": "8d5d6b88-21ea-4033-a1ba-fcfc34e38313"
      },
      "source": [
        "import numpy as np\n",
        "#vektor\n",
        "v_baris = np.array([1,2,3])\n",
        "v_kolom = np.array([[1],\n",
        "                   [2],\n",
        "                   [3]])\n",
        "print(\"Vektor Baris: \\n\",v_baris)\n",
        "print(\"vektor Kolom: \\n\",v_kolom)\n",
        "\n",
        "#matrik\n",
        "matrik = np.array([[1,2],[1,2],[1,2]])\n",
        "print(\"Matrik: \\n\",matrik)"
      ],
      "execution_count": 4,
      "outputs": [
        {
          "output_type": "stream",
          "text": [
            "Vektor Baris: \n",
            " [1 2 3]\n",
            "vektor Kolom: \n",
            " [[1]\n",
            " [2]\n",
            " [3]]\n",
            "Matrik: \n",
            " [[1 2]\n",
            " [1 2]\n",
            " [1 2]]\n"
          ],
          "name": "stdout"
        }
      ]
    },
    {
      "cell_type": "code",
      "metadata": {
        "id": "jcDVPNlLZbZ2",
        "colab_type": "code",
        "colab": {
          "base_uri": "https://localhost:8080/",
          "height": 68
        },
        "outputId": "db804280-9260-455d-a876-72067d6e36e4"
      },
      "source": [
        "import numpy as np\n",
        "v_baris = np.array([1,2,3])\n",
        "v_kolom = np.array([[1,2],[1,2],[1,2]])\n",
        "print(v_baris.ndim)\n",
        "print(v_kolom.ndim)\n",
        "print(v_kolom.shape)"
      ],
      "execution_count": 7,
      "outputs": [
        {
          "output_type": "stream",
          "text": [
            "1\n",
            "2\n",
            "(3, 2)\n"
          ],
          "name": "stdout"
        }
      ]
    },
    {
      "cell_type": "code",
      "metadata": {
        "id": "UYlzJFOBaimQ",
        "colab_type": "code",
        "colab": {
          "base_uri": "https://localhost:8080/",
          "height": 51
        },
        "outputId": "3a4c6e29-8c20-4fd8-8637-da668bd1bc42"
      },
      "source": [
        "import numpy as np\n",
        "from scipy import sparse\n",
        "\n",
        "matrik = np.array([[0,0],[0,1],[3,0]])\n",
        "matrik_sparse = sparse.csr_matrix(matrik)\n",
        "print(matrik_sparse)"
      ],
      "execution_count": 9,
      "outputs": [
        {
          "output_type": "stream",
          "text": [
            "  (1, 1)\t1\n",
            "  (2, 0)\t3\n"
          ],
          "name": "stdout"
        }
      ]
    },
    {
      "cell_type": "code",
      "metadata": {
        "id": "9YVkvzqUYwWT",
        "colab_type": "code",
        "colab": {
          "base_uri": "https://localhost:8080/",
          "height": 119
        },
        "outputId": "409732dc-38cc-4692-c3ea-cad8921e4b26"
      },
      "source": [
        "import numpy as np\n",
        "matrik = np.array([[1,2,3,4],\n",
        "                    [5,6,7,8],\n",
        "                    [9,10,11,12]])\n",
        "print(\"Matrik: \",matrik)\n",
        "print(\"Jumlah baris dan kolom: \",matrik.shape)\n",
        "print(\"Jumlah elemen matrik (baris * kolom): \",matrik.size)\n",
        "print(\"Jumlah dimensi matrik: \",matrik.ndim)"
      ],
      "execution_count": 12,
      "outputs": [
        {
          "output_type": "stream",
          "text": [
            "Matrik:  [[ 1  2  3  4]\n",
            " [ 5  6  7  8]\n",
            " [ 9 10 11 12]]\n",
            "Jumlah baris dan kolom:  (3, 4)\n",
            "Jumlah elemen matrik (baris * kolom):  12\n",
            "Jumlah dimensi matrik:  2\n"
          ],
          "name": "stdout"
        }
      ]
    },
    {
      "cell_type": "code",
      "metadata": {
        "id": "mna-GbqZdjXO",
        "colab_type": "code",
        "colab": {
          "base_uri": "https://localhost:8080/",
          "height": 51
        },
        "outputId": "4a41d49b-d6fd-4fb6-e078-16c3db8f9d87"
      },
      "source": [
        "import numpy as np\n",
        "vector = np.array([1,2,3,4,5,6])\n",
        "matrik = np.array([[1,2,3],\n",
        "                   [4,5,6],\n",
        "                   [7,8,9]])\n",
        "\n",
        "#print(vector[:])\n",
        "#print(vector[:5])\n",
        "#print(vector[3:])\n",
        "#print(vector[-3])\n",
        "print(matrik[:2,1:2])"
      ],
      "execution_count": 27,
      "outputs": [
        {
          "output_type": "stream",
          "text": [
            "[[2]\n",
            " [5]]\n"
          ],
          "name": "stdout"
        }
      ]
    },
    {
      "cell_type": "code",
      "metadata": {
        "id": "axdtqIkef1KW",
        "colab_type": "code",
        "colab": {
          "base_uri": "https://localhost:8080/",
          "height": 85
        },
        "outputId": "192cc71e-27d8-49f5-8fad-4f0e6db61ebe"
      },
      "source": [
        "import numpy as np\n",
        "\n",
        "matrik = np.array([[1,2,3],\n",
        "                   [4,5,6],\n",
        "                   [7,8,9]])\n",
        "\n",
        "add_100 = lambda i: i + 100\n",
        "vectorisasi_tambah_100 = np.vectorize(add_100)\n",
        "#print(vectorisasi_tambah_100(matrik))\n",
        "#print(matrik+100)\n",
        "\n",
        "#print(np.max(matrik))\n",
        "#print(np.min(matrik))\n",
        "\n",
        "#print(np.max(matrik,axis=0))\n",
        "#print(np.max(matrik,axis=1))\n",
        "print(np.mean(matrik))\n",
        "print(np.var(matrik))\n",
        "print(np.std(matrik))\n",
        "\n",
        "print(np.mean(matrik,axis=0))"
      ],
      "execution_count": 34,
      "outputs": [
        {
          "output_type": "stream",
          "text": [
            "5.0\n",
            "6.666666666666667\n",
            "2.581988897471611\n",
            "[4. 5. 6.]\n"
          ],
          "name": "stdout"
        }
      ]
    },
    {
      "cell_type": "code",
      "metadata": {
        "id": "ZZ_UCGQBg00I",
        "colab_type": "code",
        "colab": {
          "base_uri": "https://localhost:8080/",
          "height": 51
        },
        "outputId": "e5680e9b-fec3-46b4-8556-e79c956cf9a4"
      },
      "source": [
        "import numpy as np\n",
        "matrik = np.array([[1,2,3,4],\n",
        "                    [5,6,7,8],\n",
        "                    [9,10,11,12]])\n",
        "#print(matrik.reshape(2,6))\n",
        "\n",
        "#print(matrik.T)\n",
        "\n",
        "#print(np.array([1,2,3,4,5,6,7,8]).T)\n",
        "#np.array([[1,2,3,4,5,6,7,8]]).T\n",
        "\n",
        "print(matrik.flatten())\n",
        "print(matrik.reshape(1,-1))"
      ],
      "execution_count": 16,
      "outputs": [
        {
          "output_type": "stream",
          "text": [
            "[ 1  2  3  4  5  6  7  8  9 10 11 12]\n",
            "[[ 1  2  3  4  5  6  7  8  9 10 11 12]]\n"
          ],
          "name": "stdout"
        }
      ]
    },
    {
      "cell_type": "code",
      "metadata": {
        "id": "5KRoG4SDqGPN",
        "colab_type": "code",
        "colab": {
          "base_uri": "https://localhost:8080/",
          "height": 34
        },
        "outputId": "6940f28e-9805-4780-c7cf-f2103a0b18c2"
      },
      "source": [
        "import numpy as np\n",
        "v_a = np.array([1,2,3])\n",
        "v_b = np.array([4,5,6])\n",
        "#v_a @ v_b\n",
        "np.dot(v_a,v_b)"
      ],
      "execution_count": 19,
      "outputs": [
        {
          "output_type": "execute_result",
          "data": {
            "text/plain": [
              "32"
            ]
          },
          "metadata": {
            "tags": []
          },
          "execution_count": 19
        }
      ]
    },
    {
      "cell_type": "code",
      "metadata": {
        "id": "CZCIgEt-q9fC",
        "colab_type": "code",
        "colab": {
          "base_uri": "https://localhost:8080/",
          "height": 51
        },
        "outputId": "bd8677b7-0017-418a-c1a0-587082cd5dc8"
      },
      "source": [
        "import numpy as np\n",
        "matrik_a = np.array([[1,1,1],\n",
        "                     [1,1,1],\n",
        "                     [1,1,1]])\n",
        "matrik_b = np.array([[1,3,1],\n",
        "                     [1,3,1],\n",
        "                     [1,3,8]])\n",
        "#print(matrik_a + matrik_b)\n",
        "#print(np.add(matrik_a,matrik_b))\n",
        "#np.subtract(matrik_a,matrik_b)\n",
        "\n",
        "matrik_1 = np.array([[1,1],\n",
        "                     [1,2]])\n",
        "matrik_2 = np.array([[1,3],\n",
        "                     [1,2]])\n",
        "np.dot(matrik_1,matrik_2)"
      ],
      "execution_count": 27,
      "outputs": [
        {
          "output_type": "execute_result",
          "data": {
            "text/plain": [
              "array([[2, 5],\n",
              "       [3, 7]])"
            ]
          },
          "metadata": {
            "tags": []
          },
          "execution_count": 27
        }
      ]
    }
  ]
}